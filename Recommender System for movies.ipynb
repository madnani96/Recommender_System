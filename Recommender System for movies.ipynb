{
 "cells": [
  {
   "cell_type": "code",
   "execution_count": 2,
   "metadata": {},
   "outputs": [],
   "source": [
    "#A nested dictionary is created which shows individual rating for movies given by each user \n",
    "\n",
    "critics={\n",
    "'Rohit Jain': {'Avengers Age of Ultron': 2.5, 'Batman vs. Superman': 3.5, 'Knight and Day': 3.0, 'Superman Returns': 3.5, 'Casino Royale': 2.5, 'The Amazing Spiderman': 3.0}, \n",
    "'Ruchika Mittal': {'Avengers Age of Ultron': 3.0, 'Batman vs. Superman': 3.5, 'Knight and Day': 1.5, 'Superman Returns': 5.0, 'The Amazing Spiderman': 3.0, 'Casino Royale': 3.5},\n",
    " 'Arpit Joshi': {'Avengers Age of Ultron': 2.5, 'Batman vs. Superman': 3.0, 'Superman Returns': 3.5, 'The Amazing Spiderman': 4.0}, \n",
    "'Tanya Mathur': {'Batman vs. Superman': 3.5, 'Knight and Day': 3.0, 'The Amazing Spiderman': 4.5, 'Superman Returns': 4.0, 'Casino Royale': 2.5},\n",
    " 'Tanvi Jain': {'Avengers Age of Ultron': 3.0, 'Batman vs. Superman': 4.0, 'Knight and Day': 2.0, 'Superman Returns': 3.0, 'The Amazing Spiderman': 3.0, 'Casino Royale': 2.0},\n",
    " 'Harsha Gupta': {'Avengers Age of Ultron': 3.0, 'Batman vs. Superman': 4.0, 'The Amazing Spiderman': 3.0, 'Superman Returns': 5.0, 'Casino Royale': 3.5},\n",
    " 'Yash Singh': {'Batman vs. Superman':4.5,'Casino Royale':1.0,'Superman Returns':4.0}\n",
    "}\n"
   ]
  },
  {
   "cell_type": "code",
   "execution_count": 5,
   "metadata": {},
   "outputs": [
    {
     "data": {
      "text/plain": [
       "0.14814814814814814"
      ]
     },
     "execution_count": 5,
     "metadata": {},
     "output_type": "execute_result"
    }
   ],
   "source": [
    "# algo for Euclidean similarity\n",
    "\n",
    "from math import pow\n",
    "\n",
    "# returns a distance based similarity score for person1 and person2\n",
    "def similarity_distance(prefs,person1,person2):\n",
    "    si={}\n",
    "    for item in prefs[person1]:\n",
    "        if item in prefs[person2]:\n",
    "            si[item]=1\n",
    " #if they have no ratings in common,we will return 0\n",
    "\n",
    "    if len(si)==0:\n",
    "        return 0\n",
    "\n",
    " #add up the squares of all the difference\n",
    "    sum_of_squares=sum([pow(prefs[person1][item]-prefs[person2][item],2)for item in prefs[person1]if item in prefs[person2]])\n",
    "\n",
    "    return 1/(1+sum_of_squares)\n",
    "\n",
    "similarity_distance(critics, 'Rohit Jain', 'Ruchika Mittal')\n"
   ]
  },
  {
   "cell_type": "code",
   "execution_count": 7,
   "metadata": {},
   "outputs": [
    {
     "name": "stdout",
     "output_type": "stream",
     "text": [
      "0.39605901719066977\n"
     ]
    }
   ],
   "source": [
    "#algo for Pearson similarity\n",
    "from math import sqrt\n",
    "\n",
    "def sim_pearson(prefs,p1,p2):\n",
    " # Get the list of mutually rated items\n",
    " si={}\n",
    " for item in prefs[p1]:\n",
    "    if item in prefs[p2]: si[item]=1\n",
    " # Find the number of elements\n",
    " n=len(si)\n",
    " # if they are no ratings in common, return 0\n",
    " if n==0: return 0\n",
    " # Add up all the preferences\n",
    " sum1=sum([prefs[p1][it] for it in si])\n",
    " sum2=sum([prefs[p2][it] for it in si])\n",
    " # Sum up the squares\n",
    " sum1Sq=sum([pow(prefs[p1][it],2) for it in si])\n",
    " sum2Sq=sum([pow(prefs[p2][it],2) for it in si])\n",
    " # Sum up the products\n",
    " pSum=sum([prefs[p1][it]*prefs[p2][it] for it in si])\n",
    " # Calculate Pearson score\n",
    " num=pSum-(sum1*sum2/n)\n",
    " den=sqrt((sum1Sq-pow(sum1,2)/n)*(sum2Sq-pow(sum2,2)/n))\n",
    " if den==0: return 0\n",
    " r=num/den\n",
    " return r\n",
    "\n",
    "print(sim_pearson(critics,'Rohit Jain','Ruchika Mittal'))\n",
    "\n"
   ]
  },
  {
   "cell_type": "code",
   "execution_count": 8,
   "metadata": {},
   "outputs": [
    {
     "name": "stdout",
     "output_type": "stream",
     "text": [
      "[(0.9912407071619299, 'Rohit Jain'), (0.9244734516419049, 'Tanvi Jain'), (0.8934051474415647, 'Tanya Mathur')]\n"
     ]
    }
   ],
   "source": [
    "#Ranking the critics\n",
    "def topMatches(prefs,person,n=5,similarity=sim_pearson):\n",
    " scores=[(similarity(prefs,person,other),other) for other in prefs if other!=person]\n",
    " # Sort the list so the highest scores appear at the top\n",
    " scores.sort( )\n",
    " scores.reverse( )\n",
    " return scores[0:n]\n",
    "\n",
    "print(topMatches(critics,'Yash Singh',n=3))\n"
   ]
  },
  {
   "cell_type": "code",
   "execution_count": 9,
   "metadata": {},
   "outputs": [
    {
     "name": "stdout",
     "output_type": "stream",
     "text": [
      "[(3.3477895267131017, 'The Amazing Spiderman'), (2.8325499182641614, 'Avengers Age of Ultron'), (2.530980703765565, 'Knight and Day')]\n"
     ]
    }
   ],
   "source": [
    "#User Based Filtering Method to find recommendations\n",
    "def getRecommendations(preference,person,similarity=sim_pearson):\n",
    "    totals={}\n",
    "    simSums={}\n",
    "    for other in preference:\n",
    "        if other==person: continue\n",
    "        sim=similarity(preference,person,other)\n",
    "\n",
    "        if sim<=0: continue\n",
    "        for item in preference[other]:\n",
    "            \n",
    "            if item not in preference[person] or preference[person][item]==0:\n",
    "                \n",
    "                totals.setdefault(item,0)\n",
    "                totals[item]+=preference[other][item]*sim\n",
    "                \n",
    "                simSums.setdefault(item,0)\n",
    "                simSums[item]+=sim\n",
    "   \n",
    "    rankings=[(total/simSums[item],item) for item,total in totals.items()]\n",
    "\n",
    "    \n",
    "    rankings.sort()\n",
    "    rankings.reverse()\n",
    "    return rankings\n",
    "#get recommended item for Yash Singh\n",
    "print(getRecommendations(critics,'Yash Singh'))\n"
   ]
  },
  {
   "cell_type": "code",
   "execution_count": 17,
   "metadata": {},
   "outputs": [
    {
     "name": "stdout",
     "output_type": "stream",
     "text": [
      "{'Avengers Age of Ultron': {'Rohit Jain': 2.5, 'Ruchika Mittal': 3.0, 'Arpit Joshi': 2.5, 'Tanvi Jain': 3.0, 'Harsha Gupta': 3.0}, 'Batman vs. Superman': {'Rohit Jain': 3.5, 'Ruchika Mittal': 3.5, 'Arpit Joshi': 3.0, 'Tanya Mathur': 3.5, 'Tanvi Jain': 4.0, 'Harsha Gupta': 4.0, 'Yash Singh': 4.5}, 'Knight and Day': {'Rohit Jain': 3.0, 'Ruchika Mittal': 1.5, 'Tanya Mathur': 3.0, 'Tanvi Jain': 2.0}, 'Superman Returns': {'Rohit Jain': 3.5, 'Ruchika Mittal': 5.0, 'Arpit Joshi': 3.5, 'Tanya Mathur': 4.0, 'Tanvi Jain': 3.0, 'Harsha Gupta': 5.0, 'Yash Singh': 4.0}, 'Casino Royale': {'Rohit Jain': 2.5, 'Ruchika Mittal': 3.5, 'Tanya Mathur': 2.5, 'Tanvi Jain': 2.0, 'Harsha Gupta': 3.5, 'Yash Singh': 1.0}, 'The Amazing Spiderman': {'Rohit Jain': 3.0, 'Ruchika Mittal': 3.0, 'Arpit Joshi': 4.0, 'Tanya Mathur': 4.5, 'Tanvi Jain': 3.0, 'Harsha Gupta': 3.0}}\n",
      "\n",
      "\n",
      "{'Avengers Age of Ultron': [(0.4, 'Casino Royale'), (0.2857142857142857, 'The Amazing Spiderman'), (0.2222222222222222, 'Knight and Day'), (0.2222222222222222, 'Batman vs. Superman'), (0.09090909090909091, 'Superman Returns')], 'Batman vs. Superman': [(0.2222222222222222, 'Avengers Age of Ultron'), (0.18181818181818182, 'The Amazing Spiderman'), (0.16666666666666666, 'Superman Returns'), (0.10526315789473684, 'Knight and Day'), (0.05128205128205128, 'Casino Royale')], 'Knight and Day': [(0.2222222222222222, 'Avengers Age of Ultron'), (0.18181818181818182, 'Casino Royale'), (0.15384615384615385, 'The Amazing Spiderman'), (0.10526315789473684, 'Batman vs. Superman'), (0.06451612903225806, 'Superman Returns')], 'Superman Returns': [(0.16666666666666666, 'Batman vs. Superman'), (0.10256410256410256, 'The Amazing Spiderman'), (0.09090909090909091, 'Avengers Age of Ultron'), (0.06451612903225806, 'Knight and Day'), (0.05333333333333334, 'Casino Royale')], 'Casino Royale': [(0.4, 'Avengers Age of Ultron'), (0.18181818181818182, 'Knight and Day'), (0.14814814814814814, 'The Amazing Spiderman'), (0.05333333333333334, 'Superman Returns'), (0.05128205128205128, 'Batman vs. Superman')], 'The Amazing Spiderman': [(0.2857142857142857, 'Avengers Age of Ultron'), (0.18181818181818182, 'Batman vs. Superman'), (0.15384615384615385, 'Knight and Day'), (0.14814814814814814, 'Casino Royale'), (0.10256410256410256, 'Superman Returns')]}\n",
      "\n",
      "\n",
      "[(3.137388345384942, 'Knight and Day'), (2.9614175977653634, 'Casino Royale')]\n"
     ]
    }
   ],
   "source": [
    "#Item Based Method\n",
    "\n",
    "#Matching Products\n",
    "def transformPrefs(preference):\n",
    "    result={}\n",
    "    for person in preference:\n",
    "        for  item in preference[person]:\n",
    "            result.setdefault(item,{})\n",
    "\n",
    "            #flip item and person\n",
    "            result[item][person]=preference[person][item]\n",
    "    return result\n",
    "\n",
    "print(transformPrefs(critics))\n",
    "\n",
    "#Item Comparison Dataset\n",
    "def calculateSimilarItems(prefs,n=10):\n",
    "    #create a dictionary of items showing which other items they are similar to\n",
    "    result={}\n",
    "    #invert the preference matrix to be item centric\n",
    "    itemPrefs=transformPrefs(prefs)\n",
    "    c=0\n",
    "    for item in itemPrefs:\n",
    "        #status updates for large datasets\n",
    "        c+=1\n",
    "        if c%100==0:\n",
    "            print (\"%d / %d\" % (c,len(itemPrefs)))\n",
    "        #Find the most similar items to this one\n",
    "        scores=topMatches(itemPrefs,item,n=n,similarity=similarity_distance)\n",
    "        result[item]=scores\n",
    "    return result\n",
    "print('\\n')\n",
    "itemsimilarity=calculateSimilarItems(critics)\n",
    "print(itemsimilarity) \n",
    "\n",
    "#Item Based Recommendation\n",
    "def getRecommendedItems(prefs,itemMatch,user):\n",
    "    userRatings=prefs[user]\n",
    "    scores={}\n",
    "    totalSim={}\n",
    "\n",
    "    #loop over item rated by this user\n",
    "    for (item,rating) in userRatings.items():\n",
    "\n",
    "        #loop over items similar to this one\n",
    "        for (similarity,item2) in itemMatch[item]:\n",
    "\n",
    "            #Ignore if this user has already rated this item\n",
    "            if item2 in userRatings: continue\n",
    "\n",
    "            #weighted sum of rating times similarity\n",
    "            scores.setdefault(item2,0)\n",
    "            scores[item2]+=similarity*rating\n",
    "\n",
    "            #Sum of all the similarities\n",
    "            totalSim.setdefault(item2,0)\n",
    "            totalSim[item2]+=similarity\n",
    "\n",
    "    # Divide each total score by total weighting to get an average\n",
    "    rankings = [(score / totalSim[item], item) for item, score in scores.items()]\n",
    "\n",
    "    # Return the rankings from highest to lowest\n",
    "    rankings.sort()\n",
    "    rankings.reverse()\n",
    "    return rankings\n",
    "print('\\n')\n",
    "#get recommended items for Arpit\n",
    "print(getRecommendedItems(critics,itemsimilarity,'Arpit Joshi') )\n",
    "\n"
   ]
  },
  {
   "cell_type": "code",
   "execution_count": null,
   "metadata": {},
   "outputs": [],
   "source": []
  }
 ],
 "metadata": {
  "kernelspec": {
   "display_name": "Python 3",
   "language": "python",
   "name": "python3"
  },
  "language_info": {
   "codemirror_mode": {
    "name": "ipython",
    "version": 3
   },
   "file_extension": ".py",
   "mimetype": "text/x-python",
   "name": "python",
   "nbconvert_exporter": "python",
   "pygments_lexer": "ipython3",
   "version": "3.7.1"
  }
 },
 "nbformat": 4,
 "nbformat_minor": 1
}
